{
 "cells": [
  {
   "cell_type": "markdown",
   "id": "f7913e08-27a3-4b83-8c3c-9ff5afcf3c7b",
   "metadata": {},
   "source": [
    "Authors: Alex Kolby, Eskild Hjerrild Andersen, Simon Rydder\n",
    "\n",
    "Created: 21/02/2022\n",
    "\n",
    "File name: path.ipynb\n",
    "\n",
    "Discribtion: Manages the path differences for editors."
   ]
  },
  {
   "cell_type": "code",
   "execution_count": 1,
   "id": "84a954a8-2fca-40c8-9549-1c17a5735830",
   "metadata": {},
   "outputs": [],
   "source": [
    "# Imports\n",
    "import os"
   ]
  },
  {
   "cell_type": "code",
   "execution_count": 2,
   "id": "ddfb34b0-aab3-4f0f-b8c1-72418b60bf49",
   "metadata": {},
   "outputs": [],
   "source": [
    "filepath = os.getcwd()\n",
    "datapath = \"A:\\\\\"\n",
    "os.chdir(datapath)"
   ]
  },
  {
   "cell_type": "code",
   "execution_count": 3,
   "id": "4efba975-101b-45c9-80a8-43c44c75c57c",
   "metadata": {},
   "outputs": [
    {
     "name": "stdout",
     "output_type": "stream",
     "text": [
      "The files are located at: filepath = 'C:\\\\Users\\\\simon\\\\Documents\\\\repositories\\\\dataprojekt\\\\python'\n",
      "The data is located at: datapath = 'A:\\\\'\n"
     ]
    }
   ],
   "source": [
    "print(f'The files are located at: {filepath = }')\n",
    "print(f'The data is located at: {datapath = }')"
   ]
  }
 ],
 "metadata": {
  "kernelspec": {
   "display_name": "Python 3 (ipykernel)",
   "language": "python",
   "name": "python3"
  },
  "language_info": {
   "codemirror_mode": {
    "name": "ipython",
    "version": 3
   },
   "file_extension": ".py",
   "mimetype": "text/x-python",
   "name": "python",
   "nbconvert_exporter": "python",
   "pygments_lexer": "ipython3",
   "version": "3.9.7"
  }
 },
 "nbformat": 4,
 "nbformat_minor": 5
}
